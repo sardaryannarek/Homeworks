{
 "cells": [
  {
   "cell_type": "code",
   "execution_count": 1,
   "id": "45a5286c",
   "metadata": {},
   "outputs": [
    {
     "name": "stderr",
     "output_type": "stream",
     "text": [
      "2023-07-01 09:05:16.911722: I tensorflow/core/platform/cpu_feature_guard.cc:182] This TensorFlow binary is optimized to use available CPU instructions in performance-critical operations.\n",
      "To enable the following instructions: AVX2 FMA, in other operations, rebuild TensorFlow with the appropriate compiler flags.\n",
      "2023-07-01 09:05:18.134629: W tensorflow/compiler/tf2tensorrt/utils/py_utils.cc:38] TF-TRT Warning: Could not find TensorRT\n"
     ]
    }
   ],
   "source": [
    "import numpy as np\n",
    "\n",
    "from tensorflow import keras\n",
    "\n",
    "from keras.preprocessing.text import Tokenizer\n",
    "\n",
    "tokenizer = Tokenizer(char_level=True)\n",
    "\n",
    "filename = \"winnie.txt\"\n",
    "\n",
    "# filename = 'little.txt'\n"
   ]
  },
  {
   "cell_type": "code",
   "execution_count": 2,
   "id": "dc597cfd",
   "metadata": {},
   "outputs": [
    {
     "name": "stdout",
     "output_type": "stream",
     "text": [
      "total number of characters:  122781\n"
     ]
    }
   ],
   "source": [
    "# read the file and covert to lowercase\n",
    "\n",
    "text = open(filename, 'r').read().lower()\n",
    "\n",
    "print('total number of characters: ', len(text))\n",
    "\n",
    "\n",
    "\n"
   ]
  },
  {
   "cell_type": "code",
   "execution_count": 3,
   "id": "63624362",
   "metadata": {},
   "outputs": [
    {
     "name": "stdout",
     "output_type": "stream",
     "text": [
      "total number of unique characters:  52\n"
     ]
    }
   ],
   "source": [
    "dictianory= sorted(list(set(text)))\n",
    "print('total number of unique characters: ', len(dictianory))"
   ]
  },
  {
   "cell_type": "code",
   "execution_count": 4,
   "id": "d2b16a0a",
   "metadata": {},
   "outputs": [],
   "source": [
    "char_to_int = dict((char, i) for i, char in enumerate(dictianory))"
   ]
  },
  {
   "cell_type": "code",
   "execution_count": 5,
   "id": "7aaf6e36",
   "metadata": {},
   "outputs": [],
   "source": [
    "int_to_char = dict((i, char) for i, char in enumerate(dictianory))"
   ]
  },
  {
   "cell_type": "code",
   "execution_count": 6,
   "id": "63966903",
   "metadata": {},
   "outputs": [
    {
     "data": {
      "text/plain": [
       "{0: '\\n',\n",
       " 1: ' ',\n",
       " 2: '!',\n",
       " 3: '\"',\n",
       " 4: \"'\",\n",
       " 5: '(',\n",
       " 6: ')',\n",
       " 7: '*',\n",
       " 8: ',',\n",
       " 9: '-',\n",
       " 10: '.',\n",
       " 11: '0',\n",
       " 12: '1',\n",
       " 13: '2',\n",
       " 14: '3',\n",
       " 15: '4',\n",
       " 16: '5',\n",
       " 17: '6',\n",
       " 18: '7',\n",
       " 19: '8',\n",
       " 20: '9',\n",
       " 21: ':',\n",
       " 22: ';',\n",
       " 23: '?',\n",
       " 24: '_',\n",
       " 25: 'a',\n",
       " 26: 'b',\n",
       " 27: 'c',\n",
       " 28: 'd',\n",
       " 29: 'e',\n",
       " 30: 'f',\n",
       " 31: 'g',\n",
       " 32: 'h',\n",
       " 33: 'i',\n",
       " 34: 'j',\n",
       " 35: 'k',\n",
       " 36: 'l',\n",
       " 37: 'm',\n",
       " 38: 'n',\n",
       " 39: 'o',\n",
       " 40: 'p',\n",
       " 41: 'q',\n",
       " 42: 'r',\n",
       " 43: 's',\n",
       " 44: 't',\n",
       " 45: 'u',\n",
       " 46: 'v',\n",
       " 47: 'w',\n",
       " 48: 'x',\n",
       " 49: 'y',\n",
       " 50: 'z',\n",
       " 51: 'æ'}"
      ]
     },
     "execution_count": 6,
     "metadata": {},
     "output_type": "execute_result"
    }
   ],
   "source": [
    "int_to_char"
   ]
  },
  {
   "cell_type": "code",
   "execution_count": 7,
   "id": "fee404d8",
   "metadata": {},
   "outputs": [
    {
     "data": {
      "text/plain": [
       "{'\\n': 0,\n",
       " ' ': 1,\n",
       " '!': 2,\n",
       " '\"': 3,\n",
       " \"'\": 4,\n",
       " '(': 5,\n",
       " ')': 6,\n",
       " '*': 7,\n",
       " ',': 8,\n",
       " '-': 9,\n",
       " '.': 10,\n",
       " '0': 11,\n",
       " '1': 12,\n",
       " '2': 13,\n",
       " '3': 14,\n",
       " '4': 15,\n",
       " '5': 16,\n",
       " '6': 17,\n",
       " '7': 18,\n",
       " '8': 19,\n",
       " '9': 20,\n",
       " ':': 21,\n",
       " ';': 22,\n",
       " '?': 23,\n",
       " '_': 24,\n",
       " 'a': 25,\n",
       " 'b': 26,\n",
       " 'c': 27,\n",
       " 'd': 28,\n",
       " 'e': 29,\n",
       " 'f': 30,\n",
       " 'g': 31,\n",
       " 'h': 32,\n",
       " 'i': 33,\n",
       " 'j': 34,\n",
       " 'k': 35,\n",
       " 'l': 36,\n",
       " 'm': 37,\n",
       " 'n': 38,\n",
       " 'o': 39,\n",
       " 'p': 40,\n",
       " 'q': 41,\n",
       " 'r': 42,\n",
       " 's': 43,\n",
       " 't': 44,\n",
       " 'u': 45,\n",
       " 'v': 46,\n",
       " 'w': 47,\n",
       " 'x': 48,\n",
       " 'y': 49,\n",
       " 'z': 50,\n",
       " 'æ': 51}"
      ]
     },
     "execution_count": 7,
     "metadata": {},
     "output_type": "execute_result"
    }
   ],
   "source": [
    "char_to_int"
   ]
  },
  {
   "cell_type": "code",
   "execution_count": 8,
   "id": "2267a636",
   "metadata": {},
   "outputs": [],
   "source": [
    "text_len = len(text)"
   ]
  },
  {
   "cell_type": "code",
   "execution_count": 9,
   "id": "a0dee788",
   "metadata": {},
   "outputs": [
    {
     "data": {
      "text/plain": [
       "122781"
      ]
     },
     "execution_count": 9,
     "metadata": {},
     "output_type": "execute_result"
    }
   ],
   "source": [
    "text_len"
   ]
  },
  {
   "cell_type": "code",
   "execution_count": 10,
   "id": "d2bc084c",
   "metadata": {},
   "outputs": [],
   "source": [
    "x_data = []\n",
    "y_data = []\n",
    "seq_length = 5\n",
    "for i in range(text_len - seq_length - 1):\n",
    "    data = text[i:i + seq_length]\n",
    "    label = text[i+1 : i + 1 + seq_length]\n",
    "#     print(\"data : \" + data + \" label : \" + label)\n",
    "    x_data.append([char_to_int[char] for char in data])\n",
    "    y_data.append([char_to_int[char] for char in label])\n",
    "    \n",
    "    \n",
    "    \n",
    "    "
   ]
  },
  {
   "cell_type": "code",
   "execution_count": 11,
   "id": "a6130f46",
   "metadata": {},
   "outputs": [],
   "source": [
    "a = x_data[0]\n",
    "b = y_data[0]"
   ]
  },
  {
   "cell_type": "code",
   "execution_count": 12,
   "id": "280ae628",
   "metadata": {},
   "outputs": [
    {
     "data": {
      "text/plain": [
       "['h', 'e', 'r', 'e', ' ']"
      ]
     },
     "execution_count": 12,
     "metadata": {},
     "output_type": "execute_result"
    }
   ],
   "source": [
    "[int_to_char[num] for num in a]"
   ]
  },
  {
   "cell_type": "code",
   "execution_count": 13,
   "id": "5b3b9613",
   "metadata": {},
   "outputs": [
    {
     "data": {
      "text/plain": [
       "['e', 'r', 'e', ' ', 'i']"
      ]
     },
     "execution_count": 13,
     "metadata": {},
     "output_type": "execute_result"
    }
   ],
   "source": [
    "[int_to_char[num] for num in b]"
   ]
  },
  {
   "cell_type": "code",
   "execution_count": 14,
   "id": "b6a63fe8",
   "metadata": {},
   "outputs": [
    {
     "data": {
      "text/plain": [
       "[32, 29, 42, 29, 1]"
      ]
     },
     "execution_count": 14,
     "metadata": {},
     "output_type": "execute_result"
    }
   ],
   "source": [
    "x_data[0]"
   ]
  },
  {
   "cell_type": "code",
   "execution_count": 15,
   "id": "cf2b9433",
   "metadata": {},
   "outputs": [
    {
     "data": {
      "text/plain": [
       "122775"
      ]
     },
     "execution_count": 15,
     "metadata": {},
     "output_type": "execute_result"
    }
   ],
   "source": [
    "len(y_data)"
   ]
  },
  {
   "cell_type": "code",
   "execution_count": 16,
   "id": "cf78bd62",
   "metadata": {},
   "outputs": [],
   "source": [
    "x_data_one_hot = []\n",
    "y_data_one_hot = []\n",
    "for i in range(len(x_data)):\n",
    "    x = x_data[i]\n",
    "    y = y_data[i]\n",
    "    one_hots_x = []\n",
    "    one_hots_y = []\n",
    "    for j in range(len(x)):\n",
    "        \n",
    "        zeros_x = np.zeros(len(dictianory))\n",
    "        zeros_y = np.zeros(len(dictianory))\n",
    "        \n",
    "        zeros_y[y[j]] = 1\n",
    "        zeros_x[x[j]] = 1\n",
    "       \n",
    "        one_hots_x.append(zeros_x)\n",
    "        one_hots_y.append(zeros_y)\n",
    "#         print(one_hots_x)\n",
    "       \n",
    "    x_data_one_hot.append(one_hots_x)\n",
    "    y_data_one_hot.append(one_hots_y)\n",
    "    "
   ]
  },
  {
   "cell_type": "code",
   "execution_count": 17,
   "id": "af79abe4",
   "metadata": {},
   "outputs": [],
   "source": [
    "a = x_data_one_hot[0]\n",
    "b = y_data_one_hot[0]"
   ]
  },
  {
   "cell_type": "code",
   "execution_count": 18,
   "id": "58993208",
   "metadata": {},
   "outputs": [
    {
     "data": {
      "text/plain": [
       "[array([0., 0., 0., 0., 0., 0., 0., 0., 0., 0., 0., 0., 0., 0., 0., 0., 0.,\n",
       "        0., 0., 0., 0., 0., 0., 0., 0., 0., 0., 0., 0., 0., 0., 0., 1., 0.,\n",
       "        0., 0., 0., 0., 0., 0., 0., 0., 0., 0., 0., 0., 0., 0., 0., 0., 0.,\n",
       "        0.]),\n",
       " array([0., 0., 0., 0., 0., 0., 0., 0., 0., 0., 0., 0., 0., 0., 0., 0., 0.,\n",
       "        0., 0., 0., 0., 0., 0., 0., 0., 0., 0., 0., 0., 1., 0., 0., 0., 0.,\n",
       "        0., 0., 0., 0., 0., 0., 0., 0., 0., 0., 0., 0., 0., 0., 0., 0., 0.,\n",
       "        0.]),\n",
       " array([0., 0., 0., 0., 0., 0., 0., 0., 0., 0., 0., 0., 0., 0., 0., 0., 0.,\n",
       "        0., 0., 0., 0., 0., 0., 0., 0., 0., 0., 0., 0., 0., 0., 0., 0., 0.,\n",
       "        0., 0., 0., 0., 0., 0., 0., 0., 1., 0., 0., 0., 0., 0., 0., 0., 0.,\n",
       "        0.]),\n",
       " array([0., 0., 0., 0., 0., 0., 0., 0., 0., 0., 0., 0., 0., 0., 0., 0., 0.,\n",
       "        0., 0., 0., 0., 0., 0., 0., 0., 0., 0., 0., 0., 1., 0., 0., 0., 0.,\n",
       "        0., 0., 0., 0., 0., 0., 0., 0., 0., 0., 0., 0., 0., 0., 0., 0., 0.,\n",
       "        0.]),\n",
       " array([0., 1., 0., 0., 0., 0., 0., 0., 0., 0., 0., 0., 0., 0., 0., 0., 0.,\n",
       "        0., 0., 0., 0., 0., 0., 0., 0., 0., 0., 0., 0., 0., 0., 0., 0., 0.,\n",
       "        0., 0., 0., 0., 0., 0., 0., 0., 0., 0., 0., 0., 0., 0., 0., 0., 0.,\n",
       "        0.])]"
      ]
     },
     "execution_count": 18,
     "metadata": {},
     "output_type": "execute_result"
    }
   ],
   "source": [
    "a"
   ]
  },
  {
   "cell_type": "code",
   "execution_count": 19,
   "id": "eacf82e4",
   "metadata": {},
   "outputs": [
    {
     "data": {
      "text/plain": [
       "['h', 'e', 'r', 'e', ' ']"
      ]
     },
     "execution_count": 19,
     "metadata": {},
     "output_type": "execute_result"
    }
   ],
   "source": [
    "[int_to_char[np.argmax(a[i])] for i in range(len(a))]"
   ]
  },
  {
   "cell_type": "code",
   "execution_count": 20,
   "id": "40e04a4b",
   "metadata": {},
   "outputs": [
    {
     "data": {
      "text/plain": [
       "['e', 'r', 'e', ' ', 'i']"
      ]
     },
     "execution_count": 20,
     "metadata": {},
     "output_type": "execute_result"
    }
   ],
   "source": [
    "[int_to_char[np.argmax(b[i])] for i in range(len(b))]"
   ]
  },
  {
   "cell_type": "code",
   "execution_count": 21,
   "id": "32b1c30c",
   "metadata": {},
   "outputs": [],
   "source": [
    "x_data_one_hot = np.array(x_data_one_hot)"
   ]
  },
  {
   "cell_type": "code",
   "execution_count": 22,
   "id": "edf7ea05",
   "metadata": {},
   "outputs": [],
   "source": [
    "y_data_one_hot = np.array(y_data_one_hot)"
   ]
  },
  {
   "cell_type": "code",
   "execution_count": 23,
   "id": "22870612",
   "metadata": {},
   "outputs": [
    {
     "data": {
      "text/plain": [
       "(122775, 5, 52)"
      ]
     },
     "execution_count": 23,
     "metadata": {},
     "output_type": "execute_result"
    }
   ],
   "source": [
    "x_data_one_hot.shape"
   ]
  },
  {
   "cell_type": "code",
   "execution_count": 54,
   "id": "2c0248b3",
   "metadata": {},
   "outputs": [],
   "source": [
    "class Recurent:\n",
    "    def __init__(self,input_dim,hidden_step_dim):\n",
    "        \n",
    "        self.input_dim = input_dim\n",
    "        self.hidden_step_dim = hidden_step_dim\n",
    "        self.W_x = np.random.rand(self.input_dim, self.hidden_step_dim) * 0.01\n",
    "#         self.W_x = np.random.uniform(-np.sqrt(1/52),np.sqrt(1/52),(self.input_dim, self.hidden_step_dim))\n",
    "        self.W_h = np.random.rand(self.hidden_step_dim, self.hidden_step_dim) * 0.01\n",
    "#         self.W_h = np.random.uniform(-np.sqrt(1/52),np.sqrt(1/52), (self.hidden_step_dim, self.hidden_step_dim))\n",
    "        self.W_o = np.random.rand(self.hidden_step_dim,self.input_dim) * 0.01\n",
    "#         self.W_o = np.random.uniform(-np.sqrt(1/52),np.sqrt(1/52),(self.hidden_step_dim,self.input_dim))\n",
    "        self.b_o = np.zeros((self.input_dim))\n",
    "        self.b_h = np.zeros((self.hidden_step_dim))\n",
    "        self.hidden_units = []\n",
    "        self.output_units = []\n",
    "        \n",
    "        \n",
    "#         self.hidden_units = [((1,hidden_step_dim))]\n",
    "    def fit(self,X,Y,int_to_char,char_to_int,seq_length, epochs = 1000,lr = 0.1):\n",
    "        \n",
    "        \n",
    "        \n",
    "        #separating X and Y by time steps\n",
    "        \n",
    "        X_t = np.array([X[:,i,:] for i in range(X.shape[1])])\n",
    "        Y_t = np.array([Y[:,i,:] for i in range(Y.shape[1])])\n",
    "        \n",
    "        #params for adam\n",
    "        b1 = 0.9\n",
    "        b2 = 0.999\n",
    "        eps = 1e-6\n",
    "        first_moments = [0] * 5\n",
    "        second_moments = [0] * 5\n",
    "        #performing feedforward\n",
    "        for epoch in range(1,epochs + 1): \n",
    "            self.hidden_units = [np.zeros((X_t.shape[1],self.hidden_step_dim))]\n",
    "            self.output_units = []\n",
    "            \n",
    "            for t in range(X_t.shape[0]):\n",
    "                h_prev = self.hidden_units[-1]\n",
    "                h_t = np.tanh(X_t[t] @ self.W_x + h_prev @ self.W_h + self.b_h)\n",
    "                self.hidden_units.append(h_t)\n",
    "                \n",
    "                o_t = h_t @ self.W_o + self.b_o\n",
    "                softmaxed = np.apply_along_axis(Recurent.softmax, axis =1 , arr = o_t)\n",
    "                self.output_units.append(softmaxed)\n",
    "            \n",
    "            #computing losses\n",
    "            self.loss = 0\n",
    "            for i,output in enumerate(self.output_units):\n",
    "#                 self.loss+= -1 * (np.sum(Y_t[i] * np.log(output) ))/X_t.shape[1]\n",
    "                self.loss += -1 * (np.sum(np.log(output[Y_t[i] == 1])))\n",
    "                \n",
    "            \n",
    "            print('epoch : {} , loss : {}'.format(epoch,self.loss/X_t.shape[1]))\n",
    "            \n",
    "            #computing gradients\n",
    "            grads = [0] * 5 \n",
    "            # grads [dW_o,  d_b_o ,  d_W_x,  d_W_h,  d_b_h ]\n",
    "            for t in reversed(range(len(self.output_units))):\n",
    "                \n",
    "                #t = 4\n",
    "                grad_flow = self.output_units[t] - Y_t[t]\n",
    "#                 print(t)\n",
    "#                 print('----------------')\n",
    "                d_W_o = self.hidden_units[t + 1].T @ grad_flow\n",
    "                grads[0] += d_W_o\n",
    "                \n",
    "                d_b_o = np.sum(grad_flow ,axis = 0)\n",
    "                grads[1] += d_b_o\n",
    "                \n",
    "                grad_flow = grad_flow @ self.W_o.T\n",
    "                \n",
    "                for i in reversed(range(t + 1)):\n",
    "                    print(t,i)\n",
    "                    grad_flow = grad_flow * ( 1 - self.hidden_units[i + 1]**2)\n",
    "                    print('self.hidden_units', i)\n",
    "                    d_W_x = X_t[i].T @  grad_flow\n",
    "                    d_W_h = self.hidden_units[i].T @ grad_flow\n",
    "                    d_b_h = np.sum(grad_flow, axis = 0)\n",
    "                    \n",
    "                    grads[2] += d_W_x\n",
    "                    grads[3] += d_W_h\n",
    "                    grads[4] += d_b_h\n",
    "                    \n",
    "                    grad_flow = grad_flow @ self.W_h.T\n",
    "                    \n",
    "            grads = [ (delta/X_t.shape[1]).clip(-1,1) for delta in grads]\n",
    "            self.grads = grads\n",
    "            if epoch % 10 == 0:\n",
    "                lr /= 10\n",
    "            \n",
    "            #adam\n",
    "            first_moments = [b1 * first_moments[i] + ( 1- b1) * grads[i] for i in range(len(grads))]\n",
    "            second_moments = [b2 * second_moments[i] + (1 - b2) * grads[i]*grads[i] for i in range(len(grads))]\n",
    "            \n",
    "            corrected_first = [first_moments[i]/( 1- b1 **epoch) for i in range(len(grads))]\n",
    "            corrected_second = [second_moments[i]/(1 - b2**epoch) for i in range(len(grads))]\n",
    "            \n",
    "            \n",
    "            update = [lr * first_moments[i]/(np.sqrt(second_moments[i] + eps)) * grads[i] for i in range(len(grads))]\n",
    "            \n",
    "            #update_params\n",
    "            # grads [dW_o,  d_b_o ,  d_W_x,  d_W_h,  d_b_h ]\n",
    "            self.W_o += update[0]\n",
    "            self.b_o += update[1]\n",
    "            self.W_x += update[2]\n",
    "            self.W_h += update[3]\n",
    "            self.b_h += update[4]\n",
    "#             print(grads[0])\n",
    "            self.generate(int_to_char,char_to_int,seq_length)\n",
    "        \n",
    "           \n",
    "    \n",
    "    \n",
    "    def generate(self,int_to_char,char_to_int,seq_length,init_text = 'about'):\n",
    "        text = init_text\n",
    "        \n",
    "        \n",
    "        for _ in range(50):\n",
    "#             print(init_text)\n",
    "            ints = [char_to_int[i] for i in init_text]\n",
    "            \n",
    "            inputs = []\n",
    "            for i in ints:\n",
    "                zeros = np.zeros(len(char_to_int))\n",
    "                zeros[i] = 1\n",
    "                inputs.append(zeros)\n",
    "            inputs = np.array(inputs)\n",
    "            hidden = [np.zeros(self.hidden_step_dim)]\n",
    "            output = []\n",
    "            for t in range(inputs.shape[0]):\n",
    "                h_prev = hidden[-1]\n",
    "                h_t = np.tanh(inputs[t] @ self.W_x + h_prev @ self.W_h + self.b_h)\n",
    "                hidden.append(h_t)\n",
    "                \n",
    "                o_t = h_t @ self.W_o + self.b_o\n",
    "                softmaxed = Recurent.softmax(o_t)\n",
    "                output.append(softmaxed)\n",
    "            symb = np.argmax(output[-1])\n",
    "            char = int_to_char[symb]\n",
    "            \n",
    "            text += char\n",
    "            \n",
    "            init_text = text[-seq_length:]\n",
    "            \n",
    "        print(text)\n",
    "            \n",
    "            \n",
    "            \n",
    "            \n",
    "    \n",
    "    @staticmethod\n",
    "    def tanh(x):\n",
    "        return np.tanh(x)\n",
    "    @staticmethod\n",
    "    def d_tanh(x):\n",
    "        return 1 - np.tanh(x)**2\n",
    "        \n",
    "    @staticmethod\n",
    "    def softmax(x):\n",
    "        return(np.exp(x)/np.exp(x).sum())\n",
    "        \n",
    "        \n",
    "        \n",
    "        "
   ]
  },
  {
   "cell_type": "code",
   "execution_count": 55,
   "id": "33cec4e9",
   "metadata": {},
   "outputs": [],
   "source": [
    "rnn = Recurent(52,18)"
   ]
  },
  {
   "cell_type": "code",
   "execution_count": 56,
   "id": "e687555f",
   "metadata": {},
   "outputs": [
    {
     "name": "stdout",
     "output_type": "stream",
     "text": [
      "epoch : 1 , loss : 19.756220769019226\n",
      "4 4\n",
      "self.hidden_units 4\n",
      "4 3\n",
      "self.hidden_units 3\n",
      "4 2\n",
      "self.hidden_units 2\n",
      "4 1\n",
      "self.hidden_units 1\n",
      "4 0\n",
      "self.hidden_units 0\n",
      "3 3\n",
      "self.hidden_units 3\n",
      "3 2\n",
      "self.hidden_units 2\n",
      "3 1\n",
      "self.hidden_units 1\n",
      "3 0\n",
      "self.hidden_units 0\n",
      "2 2\n",
      "self.hidden_units 2\n",
      "2 1\n",
      "self.hidden_units 1\n",
      "2 0\n",
      "self.hidden_units 0\n",
      "1 1\n",
      "self.hidden_units 1\n",
      "1 0\n",
      "self.hidden_units 0\n",
      "0 0\n",
      "self.hidden_units 0\n",
      "about                                                  \n"
     ]
    },
    {
     "ename": "KeyboardInterrupt",
     "evalue": "",
     "output_type": "error",
     "traceback": [
      "\u001b[0;31m---------------------------------------------------------------------------\u001b[0m",
      "\u001b[0;31mKeyboardInterrupt\u001b[0m                         Traceback (most recent call last)",
      "Cell \u001b[0;32mIn[56], line 1\u001b[0m\n\u001b[0;32m----> 1\u001b[0m rnn\u001b[38;5;241m.\u001b[39mfit(x_data_one_hot,y_data_one_hot,int_to_char,char_to_int,seq_length)\n",
      "Cell \u001b[0;32mIn[54], line 45\u001b[0m, in \u001b[0;36mRecurent.fit\u001b[0;34m(self, X, Y, int_to_char, char_to_int, seq_length, epochs, lr)\u001b[0m\n\u001b[1;32m     42\u001b[0m     \u001b[38;5;28mself\u001b[39m\u001b[38;5;241m.\u001b[39mhidden_units\u001b[38;5;241m.\u001b[39mappend(h_t)\n\u001b[1;32m     44\u001b[0m     o_t \u001b[38;5;241m=\u001b[39m h_t \u001b[38;5;241m@\u001b[39m \u001b[38;5;28mself\u001b[39m\u001b[38;5;241m.\u001b[39mW_o \u001b[38;5;241m+\u001b[39m \u001b[38;5;28mself\u001b[39m\u001b[38;5;241m.\u001b[39mb_o\n\u001b[0;32m---> 45\u001b[0m     softmaxed \u001b[38;5;241m=\u001b[39m np\u001b[38;5;241m.\u001b[39mapply_along_axis(Recurent\u001b[38;5;241m.\u001b[39msoftmax, axis \u001b[38;5;241m=\u001b[39m\u001b[38;5;241m1\u001b[39m , arr \u001b[38;5;241m=\u001b[39m o_t)\n\u001b[1;32m     46\u001b[0m     \u001b[38;5;28mself\u001b[39m\u001b[38;5;241m.\u001b[39moutput_units\u001b[38;5;241m.\u001b[39mappend(softmaxed)\n\u001b[1;32m     48\u001b[0m \u001b[38;5;66;03m#computing losses\u001b[39;00m\n",
      "File \u001b[0;32m<__array_function__ internals>:200\u001b[0m, in \u001b[0;36mapply_along_axis\u001b[0;34m(*args, **kwargs)\u001b[0m\n",
      "File \u001b[0;32m~/anaconda3/envs/ACA_Advanced/lib/python3.11/site-packages/numpy/lib/shape_base.py:402\u001b[0m, in \u001b[0;36mapply_along_axis\u001b[0;34m(func1d, axis, arr, *args, **kwargs)\u001b[0m\n\u001b[1;32m    400\u001b[0m buff[ind0] \u001b[38;5;241m=\u001b[39m res\n\u001b[1;32m    401\u001b[0m \u001b[38;5;28;01mfor\u001b[39;00m ind \u001b[38;5;129;01min\u001b[39;00m inds:\n\u001b[0;32m--> 402\u001b[0m     buff[ind] \u001b[38;5;241m=\u001b[39m asanyarray(func1d(inarr_view[ind], \u001b[38;5;241m*\u001b[39margs, \u001b[38;5;241m*\u001b[39m\u001b[38;5;241m*\u001b[39mkwargs))\n\u001b[1;32m    404\u001b[0m \u001b[38;5;28;01mif\u001b[39;00m \u001b[38;5;129;01mnot\u001b[39;00m \u001b[38;5;28misinstance\u001b[39m(res, matrix):\n\u001b[1;32m    405\u001b[0m     \u001b[38;5;66;03m# wrap the array, to preserve subclasses\u001b[39;00m\n\u001b[1;32m    406\u001b[0m     buff \u001b[38;5;241m=\u001b[39m res\u001b[38;5;241m.\u001b[39m__array_wrap__(buff)\n",
      "Cell \u001b[0;32mIn[54], line 162\u001b[0m, in \u001b[0;36mRecurent.softmax\u001b[0;34m(x)\u001b[0m\n\u001b[1;32m    160\u001b[0m \u001b[38;5;129m@staticmethod\u001b[39m\n\u001b[1;32m    161\u001b[0m \u001b[38;5;28;01mdef\u001b[39;00m \u001b[38;5;21msoftmax\u001b[39m(x):\n\u001b[0;32m--> 162\u001b[0m     \u001b[38;5;28;01mreturn\u001b[39;00m(np\u001b[38;5;241m.\u001b[39mexp(x)\u001b[38;5;241m/\u001b[39mnp\u001b[38;5;241m.\u001b[39mexp(x)\u001b[38;5;241m.\u001b[39msum())\n",
      "File \u001b[0;32m~/anaconda3/envs/ACA_Advanced/lib/python3.11/site-packages/numpy/core/_methods.py:49\u001b[0m, in \u001b[0;36m_sum\u001b[0;34m(a, axis, dtype, out, keepdims, initial, where)\u001b[0m\n\u001b[1;32m     47\u001b[0m \u001b[38;5;28;01mdef\u001b[39;00m \u001b[38;5;21m_sum\u001b[39m(a, axis\u001b[38;5;241m=\u001b[39m\u001b[38;5;28;01mNone\u001b[39;00m, dtype\u001b[38;5;241m=\u001b[39m\u001b[38;5;28;01mNone\u001b[39;00m, out\u001b[38;5;241m=\u001b[39m\u001b[38;5;28;01mNone\u001b[39;00m, keepdims\u001b[38;5;241m=\u001b[39m\u001b[38;5;28;01mFalse\u001b[39;00m,\n\u001b[1;32m     48\u001b[0m          initial\u001b[38;5;241m=\u001b[39m_NoValue, where\u001b[38;5;241m=\u001b[39m\u001b[38;5;28;01mTrue\u001b[39;00m):\n\u001b[0;32m---> 49\u001b[0m     \u001b[38;5;28;01mreturn\u001b[39;00m umr_sum(a, axis, dtype, out, keepdims, initial, where)\n",
      "\u001b[0;31mKeyboardInterrupt\u001b[0m: "
     ]
    }
   ],
   "source": [
    "rnn.fit(x_data_one_hot,y_data_one_hot,int_to_char,char_to_int,seq_length)"
   ]
  },
  {
   "cell_type": "code",
   "execution_count": null,
   "id": "43a6e04c",
   "metadata": {},
   "outputs": [],
   "source": [
    "i = 5"
   ]
  },
  {
   "cell_type": "code",
   "execution_count": null,
   "id": "a8462f15",
   "metadata": {},
   "outputs": [],
   "source": [
    "for t in reversed(range(-1,i)):\n",
    "    for k in reversed(range(t)):\n",
    "        print(t,k)"
   ]
  },
  {
   "cell_type": "code",
   "execution_count": null,
   "id": "aeefecad",
   "metadata": {},
   "outputs": [],
   "source": [
    "for i in reversed(range(5)):\n",
    "    for j in reversed(range(i)):\n",
    "        print(j,i)"
   ]
  },
  {
   "cell_type": "code",
   "execution_count": null,
   "id": "c2dff5e2",
   "metadata": {},
   "outputs": [],
   "source": [
    "for i in range(5):\n",
    "    t = 5 - i -1 \n",
    "    for "
   ]
  },
  {
   "cell_type": "code",
   "execution_count": null,
   "id": "1595809f",
   "metadata": {},
   "outputs": [],
   "source": [
    "for i in reversed(range(5)):\n",
    "    for j in reversed(range(i + 1)):\n",
    "        print(i,j)"
   ]
  },
  {
   "cell_type": "code",
   "execution_count": null,
   "id": "3d22eca7",
   "metadata": {},
   "outputs": [],
   "source": []
  }
 ],
 "metadata": {
  "kernelspec": {
   "display_name": "Python 3 (ipykernel)",
   "language": "python",
   "name": "python3"
  },
  "language_info": {
   "codemirror_mode": {
    "name": "ipython",
    "version": 3
   },
   "file_extension": ".py",
   "mimetype": "text/x-python",
   "name": "python",
   "nbconvert_exporter": "python",
   "pygments_lexer": "ipython3",
   "version": "3.11.3"
  }
 },
 "nbformat": 4,
 "nbformat_minor": 5
}
